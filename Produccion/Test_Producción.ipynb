{
  "nbformat": 4,
  "nbformat_minor": 0,
  "metadata": {
    "colab": {
      "name": "Test_Producción.ipynb",
      "provenance": [],
      "collapsed_sections": []
    },
    "kernelspec": {
      "name": "python3",
      "display_name": "Python 3"
    },
    "language_info": {
      "name": "python"
    }
  },
  "cells": [
    {
      "cell_type": "code",
      "execution_count": null,
      "metadata": {
        "id": "HbFi2M-yWKwC"
      },
      "outputs": [],
      "source": [
        "###### Solo usar para la replica de los modelos - considerados."
      ]
    },
    {
      "cell_type": "code",
      "source": [
        "!pip install shap\n",
        "!pip install scorecardpy\n",
        "!pip install sweetviz"
      ],
      "metadata": {
        "colab": {
          "base_uri": "https://localhost:8080/"
        },
        "id": "yYyS1MuwWTpA",
        "outputId": "eb67f1ca-4023-4715-93ad-640c8f7876b3"
      },
      "execution_count": 1,
      "outputs": [
        {
          "output_type": "stream",
          "name": "stdout",
          "text": [
            "Collecting shap\n",
            "  Downloading shap-0.40.0-cp37-cp37m-manylinux2010_x86_64.whl (564 kB)\n",
            "\u001b[?25l\r\u001b[K     |▋                               | 10 kB 16.7 MB/s eta 0:00:01\r\u001b[K     |█▏                              | 20 kB 21.3 MB/s eta 0:00:01\r\u001b[K     |█▊                              | 30 kB 23.8 MB/s eta 0:00:01\r\u001b[K     |██▎                             | 40 kB 17.1 MB/s eta 0:00:01\r\u001b[K     |███                             | 51 kB 17.6 MB/s eta 0:00:01\r\u001b[K     |███▌                            | 61 kB 15.5 MB/s eta 0:00:01\r\u001b[K     |████                            | 71 kB 14.4 MB/s eta 0:00:01\r\u001b[K     |████▋                           | 81 kB 15.3 MB/s eta 0:00:01\r\u001b[K     |█████▏                          | 92 kB 15.6 MB/s eta 0:00:01\r\u001b[K     |█████▉                          | 102 kB 14.9 MB/s eta 0:00:01\r\u001b[K     |██████▍                         | 112 kB 14.9 MB/s eta 0:00:01\r\u001b[K     |███████                         | 122 kB 14.9 MB/s eta 0:00:01\r\u001b[K     |███████▌                        | 133 kB 14.9 MB/s eta 0:00:01\r\u001b[K     |████████▏                       | 143 kB 14.9 MB/s eta 0:00:01\r\u001b[K     |████████▊                       | 153 kB 14.9 MB/s eta 0:00:01\r\u001b[K     |█████████▎                      | 163 kB 14.9 MB/s eta 0:00:01\r\u001b[K     |█████████▉                      | 174 kB 14.9 MB/s eta 0:00:01\r\u001b[K     |██████████▍                     | 184 kB 14.9 MB/s eta 0:00:01\r\u001b[K     |███████████                     | 194 kB 14.9 MB/s eta 0:00:01\r\u001b[K     |███████████▋                    | 204 kB 14.9 MB/s eta 0:00:01\r\u001b[K     |████████████▏                   | 215 kB 14.9 MB/s eta 0:00:01\r\u001b[K     |████████████▊                   | 225 kB 14.9 MB/s eta 0:00:01\r\u001b[K     |█████████████▍                  | 235 kB 14.9 MB/s eta 0:00:01\r\u001b[K     |██████████████                  | 245 kB 14.9 MB/s eta 0:00:01\r\u001b[K     |██████████████▌                 | 256 kB 14.9 MB/s eta 0:00:01\r\u001b[K     |███████████████                 | 266 kB 14.9 MB/s eta 0:00:01\r\u001b[K     |███████████████▋                | 276 kB 14.9 MB/s eta 0:00:01\r\u001b[K     |████████████████▎               | 286 kB 14.9 MB/s eta 0:00:01\r\u001b[K     |████████████████▉               | 296 kB 14.9 MB/s eta 0:00:01\r\u001b[K     |█████████████████▍              | 307 kB 14.9 MB/s eta 0:00:01\r\u001b[K     |██████████████████              | 317 kB 14.9 MB/s eta 0:00:01\r\u001b[K     |██████████████████▋             | 327 kB 14.9 MB/s eta 0:00:01\r\u001b[K     |███████████████████▏            | 337 kB 14.9 MB/s eta 0:00:01\r\u001b[K     |███████████████████▊            | 348 kB 14.9 MB/s eta 0:00:01\r\u001b[K     |████████████████████▎           | 358 kB 14.9 MB/s eta 0:00:01\r\u001b[K     |████████████████████▉           | 368 kB 14.9 MB/s eta 0:00:01\r\u001b[K     |█████████████████████▌          | 378 kB 14.9 MB/s eta 0:00:01\r\u001b[K     |██████████████████████          | 389 kB 14.9 MB/s eta 0:00:01\r\u001b[K     |██████████████████████▋         | 399 kB 14.9 MB/s eta 0:00:01\r\u001b[K     |███████████████████████▏        | 409 kB 14.9 MB/s eta 0:00:01\r\u001b[K     |███████████████████████▉        | 419 kB 14.9 MB/s eta 0:00:01\r\u001b[K     |████████████████████████▍       | 430 kB 14.9 MB/s eta 0:00:01\r\u001b[K     |█████████████████████████       | 440 kB 14.9 MB/s eta 0:00:01\r\u001b[K     |█████████████████████████▌      | 450 kB 14.9 MB/s eta 0:00:01\r\u001b[K     |██████████████████████████      | 460 kB 14.9 MB/s eta 0:00:01\r\u001b[K     |██████████████████████████▊     | 471 kB 14.9 MB/s eta 0:00:01\r\u001b[K     |███████████████████████████▎    | 481 kB 14.9 MB/s eta 0:00:01\r\u001b[K     |███████████████████████████▉    | 491 kB 14.9 MB/s eta 0:00:01\r\u001b[K     |████████████████████████████▍   | 501 kB 14.9 MB/s eta 0:00:01\r\u001b[K     |█████████████████████████████   | 512 kB 14.9 MB/s eta 0:00:01\r\u001b[K     |█████████████████████████████▋  | 522 kB 14.9 MB/s eta 0:00:01\r\u001b[K     |██████████████████████████████▏ | 532 kB 14.9 MB/s eta 0:00:01\r\u001b[K     |██████████████████████████████▊ | 542 kB 14.9 MB/s eta 0:00:01\r\u001b[K     |███████████████████████████████▎| 552 kB 14.9 MB/s eta 0:00:01\r\u001b[K     |████████████████████████████████| 563 kB 14.9 MB/s eta 0:00:01\r\u001b[K     |████████████████████████████████| 564 kB 14.9 MB/s \n",
            "\u001b[?25hCollecting slicer==0.0.7\n",
            "  Downloading slicer-0.0.7-py3-none-any.whl (14 kB)\n",
            "Requirement already satisfied: numba in /usr/local/lib/python3.7/dist-packages (from shap) (0.51.2)\n",
            "Requirement already satisfied: scikit-learn in /usr/local/lib/python3.7/dist-packages (from shap) (1.0.2)\n",
            "Requirement already satisfied: pandas in /usr/local/lib/python3.7/dist-packages (from shap) (1.3.5)\n",
            "Requirement already satisfied: scipy in /usr/local/lib/python3.7/dist-packages (from shap) (1.4.1)\n",
            "Requirement already satisfied: packaging>20.9 in /usr/local/lib/python3.7/dist-packages (from shap) (21.3)\n",
            "Requirement already satisfied: cloudpickle in /usr/local/lib/python3.7/dist-packages (from shap) (1.3.0)\n",
            "Requirement already satisfied: numpy in /usr/local/lib/python3.7/dist-packages (from shap) (1.19.5)\n",
            "Requirement already satisfied: tqdm>4.25.0 in /usr/local/lib/python3.7/dist-packages (from shap) (4.62.3)\n",
            "Requirement already satisfied: pyparsing!=3.0.5,>=2.0.2 in /usr/local/lib/python3.7/dist-packages (from packaging>20.9->shap) (3.0.7)\n",
            "Requirement already satisfied: llvmlite<0.35,>=0.34.0.dev0 in /usr/local/lib/python3.7/dist-packages (from numba->shap) (0.34.0)\n",
            "Requirement already satisfied: setuptools in /usr/local/lib/python3.7/dist-packages (from numba->shap) (57.4.0)\n",
            "Requirement already satisfied: python-dateutil>=2.7.3 in /usr/local/lib/python3.7/dist-packages (from pandas->shap) (2.8.2)\n",
            "Requirement already satisfied: pytz>=2017.3 in /usr/local/lib/python3.7/dist-packages (from pandas->shap) (2018.9)\n",
            "Requirement already satisfied: six>=1.5 in /usr/local/lib/python3.7/dist-packages (from python-dateutil>=2.7.3->pandas->shap) (1.15.0)\n",
            "Requirement already satisfied: threadpoolctl>=2.0.0 in /usr/local/lib/python3.7/dist-packages (from scikit-learn->shap) (3.1.0)\n",
            "Requirement already satisfied: joblib>=0.11 in /usr/local/lib/python3.7/dist-packages (from scikit-learn->shap) (1.1.0)\n",
            "Installing collected packages: slicer, shap\n",
            "Successfully installed shap-0.40.0 slicer-0.0.7\n",
            "Collecting scorecardpy\n",
            "  Downloading scorecardpy-0.1.9.2.tar.gz (55 kB)\n",
            "\u001b[K     |████████████████████████████████| 55 kB 3.8 MB/s \n",
            "\u001b[?25hRequirement already satisfied: numpy in /usr/local/lib/python3.7/dist-packages (from scorecardpy) (1.19.5)\n",
            "Requirement already satisfied: pandas>=0.25.0 in /usr/local/lib/python3.7/dist-packages (from scorecardpy) (1.3.5)\n",
            "Requirement already satisfied: matplotlib in /usr/local/lib/python3.7/dist-packages (from scorecardpy) (3.2.2)\n",
            "Requirement already satisfied: scikit-learn>=0.19.1 in /usr/local/lib/python3.7/dist-packages (from scorecardpy) (1.0.2)\n",
            "Requirement already satisfied: python-dateutil>=2.7.3 in /usr/local/lib/python3.7/dist-packages (from pandas>=0.25.0->scorecardpy) (2.8.2)\n",
            "Requirement already satisfied: pytz>=2017.3 in /usr/local/lib/python3.7/dist-packages (from pandas>=0.25.0->scorecardpy) (2018.9)\n",
            "Requirement already satisfied: six>=1.5 in /usr/local/lib/python3.7/dist-packages (from python-dateutil>=2.7.3->pandas>=0.25.0->scorecardpy) (1.15.0)\n",
            "Requirement already satisfied: joblib>=0.11 in /usr/local/lib/python3.7/dist-packages (from scikit-learn>=0.19.1->scorecardpy) (1.1.0)\n",
            "Requirement already satisfied: threadpoolctl>=2.0.0 in /usr/local/lib/python3.7/dist-packages (from scikit-learn>=0.19.1->scorecardpy) (3.1.0)\n",
            "Requirement already satisfied: scipy>=1.1.0 in /usr/local/lib/python3.7/dist-packages (from scikit-learn>=0.19.1->scorecardpy) (1.4.1)\n",
            "Requirement already satisfied: cycler>=0.10 in /usr/local/lib/python3.7/dist-packages (from matplotlib->scorecardpy) (0.11.0)\n",
            "Requirement already satisfied: pyparsing!=2.0.4,!=2.1.2,!=2.1.6,>=2.0.1 in /usr/local/lib/python3.7/dist-packages (from matplotlib->scorecardpy) (3.0.7)\n",
            "Requirement already satisfied: kiwisolver>=1.0.1 in /usr/local/lib/python3.7/dist-packages (from matplotlib->scorecardpy) (1.3.2)\n",
            "Building wheels for collected packages: scorecardpy\n",
            "  Building wheel for scorecardpy (setup.py) ... \u001b[?25l\u001b[?25hdone\n",
            "  Created wheel for scorecardpy: filename=scorecardpy-0.1.9.2-py3-none-any.whl size=57843 sha256=1d08f4215247914bfe360402eeaf8ca3a3d72b0b99ff282dd13c45a01e07da49\n",
            "  Stored in directory: /root/.cache/pip/wheels/9d/50/52/715367c478fd2e2317070ccf6539b2c29fc8168144cfbfaeac\n",
            "Successfully built scorecardpy\n",
            "Installing collected packages: scorecardpy\n",
            "Successfully installed scorecardpy-0.1.9.2\n",
            "Collecting sweetviz\n",
            "  Downloading sweetviz-2.1.3-py3-none-any.whl (15.1 MB)\n",
            "\u001b[K     |████████████████████████████████| 15.1 MB 23.8 MB/s \n",
            "\u001b[?25hRequirement already satisfied: matplotlib>=3.1.3 in /usr/local/lib/python3.7/dist-packages (from sweetviz) (3.2.2)\n",
            "Requirement already satisfied: scipy>=1.3.2 in /usr/local/lib/python3.7/dist-packages (from sweetviz) (1.4.1)\n",
            "Requirement already satisfied: numpy>=1.16.0 in /usr/local/lib/python3.7/dist-packages (from sweetviz) (1.19.5)\n",
            "Requirement already satisfied: jinja2>=2.11.1 in /usr/local/lib/python3.7/dist-packages (from sweetviz) (2.11.3)\n",
            "Requirement already satisfied: pandas!=1.0.0,!=1.0.1,!=1.0.2,>=0.25.3 in /usr/local/lib/python3.7/dist-packages (from sweetviz) (1.3.5)\n",
            "Requirement already satisfied: tqdm>=4.43.0 in /usr/local/lib/python3.7/dist-packages (from sweetviz) (4.62.3)\n",
            "Requirement already satisfied: importlib-resources>=1.2.0 in /usr/local/lib/python3.7/dist-packages (from sweetviz) (5.4.0)\n",
            "Requirement already satisfied: zipp>=3.1.0 in /usr/local/lib/python3.7/dist-packages (from importlib-resources>=1.2.0->sweetviz) (3.7.0)\n",
            "Requirement already satisfied: MarkupSafe>=0.23 in /usr/local/lib/python3.7/dist-packages (from jinja2>=2.11.1->sweetviz) (2.0.1)\n",
            "Requirement already satisfied: pyparsing!=2.0.4,!=2.1.2,!=2.1.6,>=2.0.1 in /usr/local/lib/python3.7/dist-packages (from matplotlib>=3.1.3->sweetviz) (3.0.7)\n",
            "Requirement already satisfied: kiwisolver>=1.0.1 in /usr/local/lib/python3.7/dist-packages (from matplotlib>=3.1.3->sweetviz) (1.3.2)\n",
            "Requirement already satisfied: cycler>=0.10 in /usr/local/lib/python3.7/dist-packages (from matplotlib>=3.1.3->sweetviz) (0.11.0)\n",
            "Requirement already satisfied: python-dateutil>=2.1 in /usr/local/lib/python3.7/dist-packages (from matplotlib>=3.1.3->sweetviz) (2.8.2)\n",
            "Requirement already satisfied: pytz>=2017.3 in /usr/local/lib/python3.7/dist-packages (from pandas!=1.0.0,!=1.0.1,!=1.0.2,>=0.25.3->sweetviz) (2018.9)\n",
            "Requirement already satisfied: six>=1.5 in /usr/local/lib/python3.7/dist-packages (from python-dateutil>=2.1->matplotlib>=3.1.3->sweetviz) (1.15.0)\n",
            "Installing collected packages: sweetviz\n",
            "Successfully installed sweetviz-2.1.3\n"
          ]
        }
      ]
    },
    {
      "cell_type": "code",
      "source": [
        "import numpy as np\n",
        "import itertools\n",
        "import pandas as pd\n",
        "import gc\n",
        "import datetime\n",
        "import sweetviz as sv\n",
        "from pandas_profiling import ProfileReport\n",
        "import matplotlib.pyplot as plt\n",
        "from scipy import stats\n",
        "from seaborn import violinplot\n",
        "import seaborn as sns\n",
        "import shap\n",
        "import scorecardpy as sc\n",
        "from sklearn.preprocessing import LabelEncoder\n",
        "from sklearn.model_selection import train_test_split\n",
        "from sklearn.feature_selection import SelectFromModel\n",
        "from sklearn.metrics import roc_auc_score\n",
        "from sklearn.model_selection import RandomizedSearchCV, GridSearchCV\n",
        "import xgboost as xgb\n",
        "from xgboost import XGBClassifier\n",
        "import lightgbm as lgbm\n",
        "from matplotlib import pyplot\n",
        "from pylab import rcParams\n",
        "from imblearn.under_sampling import NearMiss\n",
        "from imblearn.over_sampling import RandomOverSampler\n",
        "from imblearn.combine import SMOTETomek\n",
        "from imblearn.ensemble import BalancedBaggingClassifier\n",
        "from collections import Counter\n",
        "import seaborn as sns\n",
        "import matplotlib.pyplot as plt\n"
      ],
      "metadata": {
        "id": "D9_TmV4RWTyj"
      },
      "execution_count": null,
      "outputs": []
    },
    {
      "cell_type": "code",
      "source": [
        "##  Cargando la data de testeo.\n",
        "test=pd.read_csv('rpp-ds-challenge/ds_challenge_2021.csv')"
      ],
      "metadata": {
        "id": "fkkLfZweWT4M"
      },
      "execution_count": null,
      "outputs": []
    },
    {
      "cell_type": "code",
      "source": [
        "print(test.shape)"
      ],
      "metadata": {
        "id": "hSUH1bsoWT-Q"
      },
      "execution_count": null,
      "outputs": []
    },
    {
      "cell_type": "code",
      "source": [
        "test.describe()"
      ],
      "metadata": {
        "id": "qnQsNHiHWUCt"
      },
      "execution_count": null,
      "outputs": []
    },
    {
      "cell_type": "code",
      "source": [
        "## Identificando registros con las mismas caracteristicas, recordando que cada registro son los diferentes movimientos o transacciones de diferentes clientes.\n",
        "Duplicados=test.iloc[:,1:].duplicated()\n",
        "print(Duplicados.any())\n",
        "\n",
        "## No hay duplicados."
      ],
      "metadata": {
        "id": "qs_Fg-SWWUGX"
      },
      "execution_count": null,
      "outputs": []
    },
    {
      "cell_type": "code",
      "source": [
        "## Convertiendo la variable \"Fraude\" y \"is_prime\" a variables enteras.\n",
        "# Data_set.fraude=Data_set.fraude.replace({'False':0,'True':1})\n",
        "# Data_set['fraude']=Data_set['fraude'].astype(int)\n",
        "test['is_prime']=test['is_prime'].astype(int)"
      ],
      "metadata": {
        "id": "RhpJJ9CXW6u1"
      },
      "execution_count": null,
      "outputs": []
    },
    {
      "cell_type": "code",
      "source": [
        "test['Dia'] =pd.to_datetime(test['fecha']).dt.day_name()\n",
        "\n",
        "del test['fecha']"
      ],
      "metadata": {
        "id": "0KyMK6sSW630"
      },
      "execution_count": null,
      "outputs": []
    },
    {
      "cell_type": "code",
      "source": [
        "### para la muestra test, tbm.\n",
        "test['genero']=np.where(test['genero']=='--','Error registro',test['genero'])"
      ],
      "metadata": {
        "id": "PLC71SIlW6_1"
      },
      "execution_count": null,
      "outputs": []
    },
    {
      "cell_type": "code",
      "source": [
        "# Variables a observar:\n",
        "vars_cat = ['establecimiento','ciudad','genero']"
      ],
      "metadata": {
        "id": "4Z1lmF80YNZ_"
      },
      "execution_count": null,
      "outputs": []
    },
    {
      "cell_type": "code",
      "source": [
        "### aplicando lo mismo para la muestra test\n",
        "for i in vars_cat:\n",
        "    print(\"---------------------------------------------------------------------------------------------\")\n",
        "    test[i]=test[i].replace(np.nan,\"No registrado\") "
      ],
      "metadata": {
        "id": "Q0ZDXXBLYMDd"
      },
      "execution_count": null,
      "outputs": []
    },
    {
      "cell_type": "code",
      "source": [
        "### lo mismo para el test.\n",
        "\n",
        "test[\"Sistema\"]=\".\"\n",
        "test.loc[test['dispositivo'].str.contains('ANDROID'),\"Sistema\"] = 'ANDROID'\n",
        "test.loc[test['dispositivo'].str.contains('WEB'), \"Sistema\"] = 'WEB'\n",
        "test.loc[test['dispositivo'].str.contains('%%'),\"Sistema\"] = '%%'\n",
        "\n",
        "test[\"device_score\"]=\"\"\n",
        "test.loc[test['dispositivo'].str.contains('1,'),\"device_score\"] = '1'\n",
        "test.loc[test['dispositivo'].str.contains('2,'), \"device_score\"] = '2'\n",
        "test.loc[test['dispositivo'].str.contains('3,'),\"device_score\"] = '3'\n",
        "test.loc[test['dispositivo'].str.contains('4,'),\"device_score\"] = '4'\n",
        "test.loc[test['dispositivo'].str.contains('5,'),\"device_score\"] = '5'"
      ],
      "metadata": {
        "id": "8mXmVdd5YMI2"
      },
      "execution_count": null,
      "outputs": []
    },
    {
      "cell_type": "code",
      "source": [
        "del test['dispositivo']"
      ],
      "metadata": {
        "id": "ADTTX0LMYML7"
      },
      "execution_count": null,
      "outputs": []
    },
    {
      "cell_type": "code",
      "source": [
        "#### Lo mismo se considerara para la muestra Test.\n",
        "test['Flag_dcto']=np.where(test['dcto']>0,1,0)\n",
        "del test['dcto']"
      ],
      "metadata": {
        "id": "YIBfE6AqYMOz"
      },
      "execution_count": null,
      "outputs": []
    },
    {
      "cell_type": "code",
      "source": [
        "### llamando a los datos de entrenamiento, ya que se necesitan los valores WOE para aplicarlos en la nueva muestra.\n",
        "train=pd.read_csv('rpp-ds-challenge/train_EDA.csv')\n",
        "del train['Unnamed: 0']"
      ],
      "metadata": {
        "id": "VNuVDKyaYMR4"
      },
      "execution_count": null,
      "outputs": []
    },
    {
      "cell_type": "code",
      "source": [
        "#### Guaramos los cortes definidos por iv y conversando con el negocio.\n",
        "breaks_adj={'Dia': ['Friday%,%Sunday%,%Saturday','Monday%,%Wednesday%,%Thursday%,%Tuesday'], 'Flag_dcto': [1.0], 'Sistema': ['.%,%WEB%,%%%','ANDROID'], 'cashback': [4.0,7.0,9.0,15.0], 'ciudad': ['Monterrey','Merida','Toluca','No registrado%,%Guadalajara'], 'device_score': ['1','2%,%5%,%3%,%4' ], 'establecimiento': ['Restaurante','Farmacia','Abarrotes%,%Super','MPago%,%No registrado'], 'genero': ['M','F%,%Error registro'], 'hora': [4.0,7.0,20.0,22.0], 'interes_tc': [39.0,41.0,57.0,63.0], 'is_prime': [1.0], 'linea_tc': [73000.0,77000.0,83000.0,90000.0], 'monto': [70.0,130.0,260.0,420.0], 'status_txn': ['Rechazada','Aceptada','En proceso'], 'tipo_tc': ['Virtual','Física']}"
      ],
      "metadata": {
        "id": "iPpdVCIxY-Lt"
      },
      "execution_count": null,
      "outputs": []
    },
    {
      "cell_type": "code",
      "source": [
        "bins_adj = sc.woebin(train, y=\"fraude\", breaks_list=breaks_adj) \n",
        "\n",
        "#### Aplicando los valores WOE obtenidos con la muestra de entrenamiento.\n",
        "\n",
        "test_woe = sc.woebin_ply(test, bins_adj) "
      ],
      "metadata": {
        "id": "bWhEtREXY-V_"
      },
      "execution_count": null,
      "outputs": []
    },
    {
      "cell_type": "code",
      "source": [
        "###### Se eleminan las variables menos importantes (Variables se identificarón en el entrenamiento)"
      ],
      "metadata": {
        "id": "ETiVatkjY-fn"
      },
      "execution_count": null,
      "outputs": []
    },
    {
      "cell_type": "code",
      "source": [
        "#   list(Variables_menos_importantes)\n",
        "Variables_menos_importantes=['genero_woe','establecimiento_woe','ciudad_woe','device_score_woe','Dia_woe','tipo_tc_woe','Sistema_woe','status_txn_woe','is_prime_woe','Flag_dcto_woe']"
      ],
      "metadata": {
        "id": "cD1jZISoY-jd"
      },
      "execution_count": null,
      "outputs": []
    },
    {
      "cell_type": "code",
      "source": [
        "### para la muestra test.\n",
        "for i in list(Variables_menos_importantes):\n",
        "    del test_woe[i]"
      ],
      "metadata": {
        "id": "ILlO7z69aN_Y"
      },
      "execution_count": null,
      "outputs": []
    },
    {
      "cell_type": "markdown",
      "source": [
        "# **Cargamos los modelos guardados.**"
      ],
      "metadata": {
        "id": "Lu_csfxwa2f3"
      }
    },
    {
      "cell_type": "markdown",
      "source": [
        "Modelo Logit"
      ],
      "metadata": {
        "id": "ez-3Ygkgcj1i"
      }
    },
    {
      "cell_type": "code",
      "source": [
        "import joblib\n",
        "\n",
        "fraude_log= joblib.load('modelo_logit.joblib')"
      ],
      "metadata": {
        "id": "ni53JLhhaOJD"
      },
      "execution_count": null,
      "outputs": []
    },
    {
      "cell_type": "code",
      "source": [
        "#### Obtenemos la predicción con el modelo - logit.\n",
        "\n",
        "rf_pred_class_test = fraude_log.predict(test_woe.iloc[:, 1:])\n",
        "rf_probs_test = fraude_log.predict_proba(test_woe.iloc[:, 1:])"
      ],
      "metadata": {
        "id": "BCK04Ogjcixl"
      },
      "execution_count": null,
      "outputs": []
    },
    {
      "cell_type": "code",
      "source": [
        "test['prob']=rf_probs_test"
      ],
      "metadata": {
        "id": "6uBlXq2Cc7xn"
      },
      "execution_count": null,
      "outputs": []
    }
  ]
}